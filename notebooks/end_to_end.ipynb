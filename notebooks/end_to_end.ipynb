{
  "nbformat": 4,
  "nbformat_minor": 0,
  "metadata": {
    "colab": {
      "provenance": [],
      "authorship_tag": "ABX9TyNR8DBZwBWS8Ug7LSDWiWGm",
      "include_colab_link": true
    },
    "kernelspec": {
      "name": "python3",
      "display_name": "Python 3"
    },
    "language_info": {
      "name": "python"
    }
  },
  "cells": [
    {
      "cell_type": "markdown",
      "metadata": {
        "id": "view-in-github",
        "colab_type": "text"
      },
      "source": [
        "<a href=\"https://colab.research.google.com/github/fmousinho/LaxAI/blob/main/notebooks/end_to_end.ipynb\" target=\"_parent\"><img src=\"https://colab.research.google.com/assets/colab-badge.svg\" alt=\"Open In Colab\"/></a>"
      ]
    },
    {
      "cell_type": "code",
      "execution_count": 9,
      "metadata": {
        "id": "JNIQpFQZU62n",
        "colab": {
          "base_uri": "https://localhost:8080/"
        },
        "collapsed": true,
        "outputId": "db7b546f-cab0-45f1-8b51-5b0e9da07365"
      },
      "outputs": [
        {
          "output_type": "stream",
          "name": "stdout",
          "text": [
            "/content\n",
            "Cloning into 'LaxAI'...\n",
            "remote: Enumerating objects: 1055, done.\u001b[K\n",
            "remote: Counting objects: 100% (37/37), done.\u001b[K\n",
            "remote: Compressing objects: 100% (37/37), done.\u001b[K\n",
            "remote: Total 1055 (delta 11), reused 0 (delta 0), pack-reused 1018 (from 2)\u001b[K\n",
            "Receiving objects: 100% (1055/1055), 636.01 MiB | 28.59 MiB/s, done.\n",
            "Resolving deltas: 100% (655/655), done.\n"
          ]
        }
      ],
      "source": [
        "%cd /content\n",
        "!rm -rf LaxAI\n",
        "!git clone https://github.com/fmousinho/LaxAI"
      ]
    },
    {
      "cell_type": "code",
      "source": [
        "%cd /content/LaxAI\n",
        "!pip install -r requirements_train.txt"
      ],
      "metadata": {
        "id": "Hzl7DmLDB18F"
      },
      "execution_count": null,
      "outputs": []
    },
    {
      "cell_type": "code",
      "source": [
        "%load_ext autoreload\n",
        "%autoreload 2\n",
        "\n",
        "import os\n",
        "import sys\n",
        "import logging\n",
        "import json\n",
        "import argparse\n",
        "\n",
        "# --- Path Setup ---\n",
        "# Add the project root to the Python path to allow for absolute imports\n",
        "project_root = '/content/LaxAI'\n",
        "if project_root not in sys.path:\n",
        "    sys.path.insert(0, project_root)\n",
        "\n",
        "from core.config.all_config import detection_config, training_config\n",
        "from core.config import logging_config\n",
        "from core.common.google_storage import get_storage\n",
        "from core.train.dataprep_pipeline import DataPrepPipeline\n",
        "from core.train.train_pipeline import TrainPipeline\n",
        "\n",
        "# --- Configure Logging ---\n",
        "# Note: This script assumes logging is configured elsewhere (e.g., in config)\n",
        "# If not, uncomment the following lines for basic logging.\n",
        "# from config import logging_config\n",
        "logger = logging.getLogger(__name__)"
      ],
      "metadata": {
        "colab": {
          "base_uri": "https://localhost:8080/"
        },
        "id": "QlYcaWNY9ICX",
        "outputId": "216a68ca-f87c-4407-eee2-656d1b075052"
      },
      "execution_count": 4,
      "outputs": [
        {
          "output_type": "stream",
          "name": "stdout",
          "text": [
            "20:11:46,412 | INFO    | [utils] NumExpr defaulting to 2 threads.\n"
          ]
        }
      ]
    },
    {
      "cell_type": "code",
      "source": [
        "def train(tenant_id: str, frames_per_video: int, verbose: bool, save_intermediate: bool, training_kwargs: Optional[Dict[str, Any]] = None):\n",
        "    \"\"\"\n",
        "    Main function to orchestrate the data prep and training workflows.\n",
        "\n",
        "    Args:\n",
        "        tenant_id: The tenant ID for GCS operations.\n",
        "        frames_per_video: Number of frames to extract per video in the data prep pipeline.\n",
        "        verbose: Enable verbose logging for pipelines.\n",
        "        save_intermediate: Save intermediate pipeline results to GCS.\n",
        "    \"\"\"\n",
        "    logger.info(f\"--- Starting End-to-End Workflow for Tenant: {tenant_id} ---\")\n",
        "\n",
        "    # 1. Find all videos in the raw directory\n",
        "    try:\n",
        "\n",
        "        train_pipeline = TrainPipeline(\n",
        "            tenant_id=tenant_id,\n",
        "            verbose=verbose,\n",
        "            save_intermediate=save_intermediate\n",
        "            )\n",
        "\n",
        "\n",
        "        # Use Google Storage functions to list directories\n",
        "        storage_client = get_storage(tenant_id)\n",
        "        # Find dataset paths - look for /datasets/ directories that contain numeric/train/ structure\n",
        "        all_blobs = storage_client.list_blobs()\n",
        "        logger.info(f\"Total blobs found: {len(all_blobs)}\")\n",
        "\n",
        "        # Debug: Show sample blobs that contain /datasets/ and /train/\n",
        "        train_blobs = [blob for blob in all_blobs if '/train/' in blob]\n",
        "        for blob in train_blobs[:5]:\n",
        "            logger.info(f\"Sample blob: {blob}\")\n",
        "\n",
        "        # Find all unique parent directories containing /train\n",
        "        train_paths = set()\n",
        "        for blob in train_blobs:\n",
        "            # Extract the full path including frame directory: .../datasets/frameN/train/\n",
        "            if '/datasets/' in blob and '/train/' in blob:\n",
        "                datasets_index = blob.find('/datasets/')\n",
        "                train_index = blob.find('/train/', datasets_index)\n",
        "                if datasets_index != -1 and train_index != -1:\n",
        "                    # Include everything up to and including /train/\n",
        "                    full_path = blob[:train_index + len('/train/')]\n",
        "                    train_paths.add(full_path)\n",
        "        logger.info(f\"Found {len(train_paths)} directories containing training data.\")\n",
        "\n",
        "        total_folders = len(train_paths)\n",
        "        processed_folders = 0\n",
        "        for train_path in train_paths:\n",
        "            # Validate that this path has the expected structure: .../datasets/frameN/train/\n",
        "            if '/datasets/' not in train_path or '/datasets/frame' not in train_path or not train_path.rstrip('/').endswith('/train'):\n",
        "                logger.warning(f\"Skipping invalid train path structure: {train_path}\")\n",
        "                continue\n",
        "\n",
        "            logger.info(\"**********************************************************************\")\n",
        "            logger.info(f\"  Training round {processed_folders + 1}/{total_folders}\")\n",
        "            logger.info(f\"Running train pipeline for dataset: {train_path}\")\n",
        "            logger.info(\"**********************************************************************\")\n",
        "            train_results = train_pipeline.run(dataset_path=train_path)\n",
        "\n",
        "            if train_results.get(\"status\") == \"completed\":\n",
        "                logger.info(f\"Successfully completed training for dataset: {train_path}\")\n",
        "            else:\n",
        "                logger.error(f\"Training pipeline failed for dataset: {train_path}\")\n",
        "                logger.error(f\"Details: {json.dumps(train_results.get('errors'), indent=2)}\")\n",
        "\n",
        "            processed_folders += 1\n",
        "\n",
        "        logger.info(\"--- End-to-End Workflow Finished ---\")\n",
        "\n",
        "    except Exception as e:\n",
        "        logger.error(f\"Error occurred during workflow: {e}\")\n",
        "        logger.error(f\"Details: {json.dumps(e.args, indent=2)}\")"
      ],
      "metadata": {
        "id": "FM41bNip9vof"
      },
      "execution_count": 6,
      "outputs": []
    },
    {
      "cell_type": "code",
      "source": [],
      "metadata": {
        "colab": {
          "base_uri": "https://localhost:8080/",
          "height": 35
        },
        "id": "1hxHYdZ6-E_c",
        "outputId": "2fd71690-58cb-4bfa-aed6-5c5476801f53"
      },
      "execution_count": 7,
      "outputs": [
        {
          "output_type": "execute_result",
          "data": {
            "text/plain": [
              "'/content/LaxAI'"
            ],
            "application/vnd.google.colaboratory.intrinsic+json": {
              "type": "string"
            }
          },
          "metadata": {},
          "execution_count": 7
        }
      ]
    }
  ]
}