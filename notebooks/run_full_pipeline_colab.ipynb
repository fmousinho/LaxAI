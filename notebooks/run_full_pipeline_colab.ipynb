{
 "cells": [
  {
   "cell_type": "markdown",
   "metadata": {},
   "source": [
    "# LaxAI: Full Data Processing and Training Pipeline\n",
    "\n",
    "This notebook orchestrates the end-to-end process of preparing data and training a model for the LaxAI project.\n",
    "\n",
    "**Pipeline Steps:**\n",
    "1.  **Setup**: Clones the project repository (if necessary) and installs all required dependencies.\n",
    "2.  **Authentication**: Authenticates with Google Cloud to access GCS buckets.\n",
    "3.  **Configuration**: Sets up project paths and configuration variables (like `TENANT_ID`).\n",
    "4.  **Data Preparation**: Runs the `DataPrepPipeline` for all `.mp4` videos found in the tenant's `raw/` GCS directory. All processed data is stored in a single, unique `run_folder`.\n",
    "5.  **Model Training**: Runs the `TrainPipeline` using the data generated in the previous step."
   ]
  },
  {
   "cell_type": "markdown",
   "metadata": {},
   "source": [
    "## 1. Setup Environment\n",
    "\n",
    "This cell clones the project repository from GitHub and installs all Python dependencies. \n",
    "\n",
    "**Note**: You must replace the placeholder URL with your actual GitHub repository URL. If you have uploaded the project files to Colab manually, you can skip the `!git clone` command and just `%cd` into the project directory."
   ]
  },
  {
   "cell_type": "code",
   "execution_count": null,
   "metadata": {},
   "outputs": [],
   "source": [
    "# Clone the repository (replace with your repo URL)\n",
    "!git clone https://github.com/your-username/LaxAI.git\n",
    "%cd LaxAI\n",
    "\n",
    "# Install all required packages\n",
    "!pip install -q python-dotenv scikit-learn numpy opencv-python packaging google-api-python-client google-auth-httplib2 google-auth-oauthlib torch rfdetr tensorboard wandb deep_sort_realtime ipywidgets matplotlib transformers Pillow torchvision google-cloud-storage python-json-logger seaborn supervision"
   ]
  },
  {
   "cell_type": "markdown",
   "metadata": {},
   "source": [
    "## 2. Authenticate and Configure\n",
    "\n",
    "This cell authenticates your Google account, allowing the notebook to interact with Google Cloud services like GCS. It also sets up the Python path and key configuration variables."
   ]
  },
  {
   "cell_type": "code",
   "execution_count": null,
   "metadata": {},
   "outputs": [],
   "source": [
    "import sys\n",
    "import os\