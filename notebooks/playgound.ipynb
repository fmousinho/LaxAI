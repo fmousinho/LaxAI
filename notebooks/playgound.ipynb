{
 "cells": [
  {
   "cell_type": "code",
   "execution_count": 3,
   "id": "695d5679",
   "metadata": {},
   "outputs": [
    {
     "name": "stdout",
     "output_type": "stream",
     "text": [
      "Project root: /Users/fernandomousinho/Documents/Learning_to_Code/LaxAI\n",
      "Current working directory: /Users/fernandomousinho/Documents/Learning_to_Code/LaxAI/notebooks\n",
      "Python path includes project root: True\n"
     ]
    }
   ],
   "source": [
    "import sys, os\n",
    "\n",
    "# Get the current working directory (should be the project root when running from VS Code)\n",
    "current_dir = os.getcwd()\n",
    "# If we're in the notebooks directory, go up one level to get to project root\n",
    "if current_dir.endswith('/notebooks'):\n",
    "    project_root = os.path.dirname(current_dir)\n",
    "else:\n",
    "    project_root = current_dir\n",
    "\n",
    "if project_root not in sys.path:\n",
    "    sys.path.insert(0, project_root)\n",
    "\n",
    "print(f\"Project root: {project_root}\")\n",
    "print(f\"Current working directory: {current_dir}\")\n",
    "print(f\"Python path includes project root: {project_root in sys.path}\")"
   ]
  },
  {
   "cell_type": "code",
   "execution_count": 22,
   "id": "6ef94946",
   "metadata": {},
   "outputs": [
    {
     "name": "stdout",
     "output_type": "stream",
     "text": [
      "✅ GCSPaths loaded successfully!\n",
      "10:04:24,642 | ERROR   | [google_storage] Missing required argument for path 'raw_data': 'tenant_id'\n",
      "❌ Error creating GCSPaths: 'tenant_id'\n",
      "❌ Error creating GCSPaths: 'tenant_id'\n"
     ]
    },
    {
     "name": "stderr",
     "output_type": "stream",
     "text": [
      "Traceback (most recent call last):\n",
      "  File \"/var/folders/_j/_lx6y7_n7fnb5s2j9l9s334c0000gn/T/ipykernel_15406/292878827.py\", line 17, in <module>\n",
      "    raw_data_path = gcs.get_path(\"raw_data\")\n",
      "                    ^^^^^^^^^^^^^^^^^^^^^^^^\n",
      "  File \"/Users/fernandomousinho/Documents/Learning_to_Code/LaxAI/src/common/google_storage.py\", line 91, in get_path\n",
      "    return path_template.format(**kwargs)\n",
      "           ^^^^^^^^^^^^^^^^^^^^^^^^^^^^^^\n",
      "KeyError: 'tenant_id'\n"
     ]
    }
   ],
   "source": [
    "# Test the fixed GCSPaths after correcting the YAML syntax error\n",
    "import importlib\n",
    "from src.common import google_storage\n",
    "\n",
    "# Reload the module to pick up the latest changes\n",
    "importlib.reload(google_storage)\n",
    "\n",
    "# Re-import the class after reload\n",
    "from src.common.google_storage import GCSPaths\n",
    "\n",
    "# Test the GCSPaths class\n",
    "try:\n",
    "    gcs = GCSPaths()\n",
    "    print(f\"✅ GCSPaths loaded successfully!\")\n",
    "    \n",
    "    # Test getting some paths\n",
    "    raw_data_path = gcs.get_path(\"raw_data\")\n",
    "    print(f\"Raw data path template: {raw_data_path}\")\n",
    "    \n",
    "    # Test with actual tenant_id\n",
    "    formatted_path = gcs.get_path(\"raw_data\", tenant_id=\"tenant1\")\n",
    "    print(f\"Formatted raw data path: {formatted_path}\")\n",
    "    \n",
    "except Exception as e:\n",
    "    print(f\"❌ Error creating GCSPaths: {e}\")\n",
    "    import traceback\n",
    "    traceback.print_exc()"
   ]
  },
  {
   "cell_type": "code",
   "execution_count": 23,
   "id": "3012c100",
   "metadata": {},
   "outputs": [
    {
     "name": "stdout",
     "output_type": "stream",
     "text": [
      "✅ Module reloaded using importlib.reload()\n",
      "Available paths: ['raw_data', 'imported_video', 'extracted_frames', 'orig_crops', 'augmented_crops', 'datasets_root', 'train_dataset', 'val_dataset', 'run_data']\n",
      "Raw data path for tenant1: tenant1/raw/\n"
     ]
    }
   ],
   "source": [
    "# Method 1: Using importlib.reload() - Most common approach\n",
    "import importlib\n",
    "from src.common import google_storage\n",
    "\n",
    "# Reload the module\n",
    "importlib.reload(google_storage)\n",
    "\n",
    "# Re-import the class after reload\n",
    "from src.common.google_storage import GCSPaths\n",
    "\n",
    "print(\"✅ Module reloaded using importlib.reload()\")\n",
    "\n",
    "# Test the reloaded GCSPaths\n",
    "gcs = GCSPaths()\n",
    "print(f\"Available paths: {list(gcs.paths.keys())}\")\n",
    "\n",
    "# Example usage with parameters\n",
    "example_path = gcs.get_path(\"raw_data\", tenant_id=\"tenant1\")\n",
    "print(f\"Raw data path for tenant1: {example_path}\")"
   ]
  },
  {
   "cell_type": "markdown",
   "id": "fd61337c",
   "metadata": {},
   "source": [
    "# Module Reloading Methods\n",
    "\n",
    "Here are different ways to reload modules when you make changes to the source code:\n",
    "\n",
    "## Method 1: importlib.reload() (Recommended)\n",
    "This is the most reliable method for reloading modules during development.\n",
    "\n",
    "## Method 2: Restart Kernel (Nuclear option)\n",
    "If you have complex dependencies or circular imports, sometimes the best approach is to restart the entire Jupyter kernel.\n",
    "\n",
    "## Method 3: %autoreload magic (IPython)\n",
    "You can also use `%load_ext autoreload` and `%autoreload 2` to automatically reload modules when they change."
   ]
  },
  {
   "cell_type": "code",
   "execution_count": null,
   "id": "91d616ca",
   "metadata": {},
   "outputs": [],
   "source": [
    "# Method 2: Using IPython autoreload magic\n",
    "%load_ext autoreload\n",
    "%autoreload 2\n",
    "\n",
    "print(\"✅ Autoreload enabled - modules will automatically reload when changed\")\n",
    "print(\"Note: This only works for subsequent imports, not already imported modules\")"
   ]
  }
 ],
 "metadata": {
  "kernelspec": {
   "display_name": ".venv312",
   "language": "python",
   "name": "python3"
  },
  "language_info": {
   "codemirror_mode": {
    "name": "ipython",
    "version": 3
   },
   "file_extension": ".py",
   "mimetype": "text/x-python",
   "name": "python",
   "nbconvert_exporter": "python",
   "pygments_lexer": "ipython3",
   "version": "3.12.7"
  }
 },
 "nbformat": 4,
 "nbformat_minor": 5
}
